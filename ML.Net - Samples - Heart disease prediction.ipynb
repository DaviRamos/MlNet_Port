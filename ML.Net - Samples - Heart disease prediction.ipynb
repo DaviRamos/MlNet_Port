{
 "cells": [
  {
   "cell_type": "markdown",
   "metadata": {},
   "source": [
    "# ML.Net - Samples - Heart disease prediction"
   ]
  },
  {
   "cell_type": "markdown",
   "metadata": {},
   "source": [
    "## Heart disease prediction"
   ]
  },
  {
   "cell_type": "markdown",
   "metadata": {},
   "source": [
    "| ML.NET version | API type          | Status                        | App Type    | Data type | Scenario            | ML Task                   | Algorithms                  |\n",
    "|----------------|-------------------|-------------------------------|-------------|-----------|---------------------|---------------------------|-----------------------------|\n",
    "| v1.5           | Dynamic API | Up-to-date | Jupyter Notebook | .txt files | Heart disease classification | Binary classification | FastTree |\n",
    "\n",
    "In this introductory sample, you'll see how to use [ML.NET](https://www.microsoft.com/net/learn/apps/machine-learning-and-ai/ml-dotnet) to predict type of heart disease. In the world of machine learning, this type of prediction is known as **binary classification**."
   ]
  },
  {
   "cell_type": "markdown",
   "metadata": {},
   "source": [
    "## Dataset"
   ]
  },
  {
   "cell_type": "markdown",
   "metadata": {},
   "source": [
    "The dataset used is this: [UCI Heart disease] (https://archive.ics.uci.edu/ml/datasets/heart+Disease)\n",
    "This database contains 76 attributes, but all published experiments refer to using a subset of 14 of them. \n",
    "\n",
    "Citation for this dataset is available at [DataSets-Citation](./HeartDiseaseDetection/Data/DATASETS-CITATION.txt)"
   ]
  },
  {
   "cell_type": "markdown",
   "metadata": {},
   "source": [
    "## Problem"
   ]
  },
  {
   "cell_type": "markdown",
   "metadata": {},
   "source": [
    "This problem is centered around predicting the presence of heart disease based on 14 attributes. To solve this problem, we will build an ML model that takes as inputs 14 columns, 13 are feature columns (also called independent variables) plus the 'Label' column which is what you want to predict and in this case is named 'num': \n",
    "\n",
    "Attribute Information:\n",
    "\n",
    "* (age) - Age\n",
    "* (sex) -  (1 = male; 0 = female) \n",
    "* (cp)  chest pain type  -- Value 1: typical angina  -- Value 2: atypical angina  -- Value 3: non-anginal pain -- Value 4: asymptomatic \n",
    "* (trestbps) - resting blood pressure (in mm Hg on admission to the hospital) \n",
    "* (chol) - serum cholestoral in mg/dl \n",
    "* (fbs)  -  (fasting blood sugar > 120 mg/dl) (1 = true; 0 = false) \n",
    "* (restecg) - esting electrocardiographic results -- Value 0: normal -- Value 1: having ST-T wave abnormality (T wave inversions and/or ST elevation or depression of > 0.05 mV) -- Value 2: showing probable or definite left ventricular hypertrophy by Estes' criteria \n",
    "* (thalach) - maximum heart rate achieved \n",
    "* (exang) - exercise induced angina (1 = yes; 0 = no) \n",
    "* (oldpeak) - ST depression induced by exercise relative to rest \n",
    "* (slope) - the slope of the peak exercise ST segment -- Value 1: upsloping -- Value 2: flat -- Value 3: downsloping  \n",
    "* (ca) - number of major vessels (0-3) colored by flourosopy\n",
    "* (thal) - 3 = normal; 6 = fixed defect; 7 = reversible defect \n",
    "* (num) - (the predicted attribute) diagnosis of heart disease (angiographic disease status) -- Value 0: < 50% diameter narrowing -- Value 1: > 50% diameter narrowing\n",
    "\n",
    "and predicts the presence of heart disease in the patient with integer values from 0 to 4:\n",
    "Experiments with the Cleveland database (dataset used for this example) have concentrated on simply attempting to distinguish presence (value 1) from absence (value 0). "
   ]
  },
  {
   "cell_type": "markdown",
   "metadata": {},
   "source": [
    "## ML task - Binary classification"
   ]
  },
  {
   "cell_type": "markdown",
   "metadata": {},
   "source": [
    "The generalized problem of **binary classification** is to classify items into items into one of the two classes (classifying items into more than two classes is called **multiclass classification**).\n",
    "\n",
    "* predict if an insurance claim is valid or not.\n",
    "* predict if a plane will be delayed or will arrive on time.\n",
    "* predict if a face ID (photo) belongs to the owner of a device.\n",
    "\n",
    "The common feature for all those examples is that the parameter we want to predict can take only one of two values. In other words, this value is represented by `boolean` type.\n",
    "\n",
    "## Solution\n",
    "To solve this problem, first we will build an ML model. Then we will train the model on existing data, evaluate how good it is, and lastly we'll consume the model to predict if heart disease is present for a list of heart data set.\n",
    "\n",
    "![Build -> Train -> Evaluate -> Consume](../shared_content/modelpipeline.png)"
   ]
  },
  {
   "cell_type": "code",
   "execution_count": 22,
   "metadata": {},
   "outputs": [],
   "source": [
    "// ML.NET Nuget packages \n",
    "#r \"nuget:Microsoft.ML\"     \n",
    "\n",
    "// ML.NET FastTree Nuget packages \n",
    "#r \"nuget:Microsoft.ML.FastTree\""
   ]
  },
  {
   "cell_type": "markdown",
   "metadata": {},
   "source": [
    "## Using C# Class"
   ]
  },
  {
   "cell_type": "code",
   "execution_count": 23,
   "metadata": {},
   "outputs": [],
   "source": [
    "using System;\n",
    "using System.IO;\n",
    "using System.IO.Compression;\n",
    "using Microsoft.ML.Trainers.FastTree;\n",
    "using System.Linq;\n",
    "using System.Net;\n",
    "using Microsoft.ML;\n",
    "using Microsoft.ML.Data;\n",
    "using System.Collections.Generic;\n",
    "using static Microsoft.ML.TrainCatalogBase;\n",
    "using static Microsoft.ML.DataOperationsCatalog;\n",
    "using System.Diagnostics;"
   ]
  },
  {
   "cell_type": "markdown",
   "metadata": {},
   "source": [
    "## Declare data-classes for input data and predictions"
   ]
  },
  {
   "cell_type": "code",
   "execution_count": 24,
   "metadata": {},
   "outputs": [],
   "source": [
    "public class HeartData\n",
    "{\n",
    "    [LoadColumn(0)]\n",
    "    public float Age { get; set; }\n",
    "    [LoadColumn(1)]\n",
    "    public float Sex { get; set; }\n",
    "    [LoadColumn(2)]\n",
    "    public float Cp { get; set; }\n",
    "    [LoadColumn(3)]\n",
    "    public float TrestBps { get; set; }\n",
    "    [LoadColumn(4)]\n",
    "    public float Chol { get; set; }\n",
    "    [LoadColumn(5)]\n",
    "    public float Fbs { get; set; }\n",
    "    [LoadColumn(6)]\n",
    "    public float RestEcg { get; set; }\n",
    "    [LoadColumn(7)]\n",
    "    public float Thalac { get; set; }\n",
    "    [LoadColumn(8)]\n",
    "    public float Exang { get; set; }\n",
    "    [LoadColumn(9)]\n",
    "    public float OldPeak { get; set; }\n",
    "    [LoadColumn(10)]\n",
    "    public float Slope { get; set; }\n",
    "    [LoadColumn(11)]\n",
    "    public float Ca { get; set; }\n",
    "    [LoadColumn(12)]\n",
    "    public float Thal { get; set; }\n",
    "    [LoadColumn(13)]\n",
    "    public bool Label { get; set; }\n",
    "}\n",
    "\n",
    "public class HeartPrediction\n",
    "{\n",
    "    // ColumnName attribute is used to change the column name from\n",
    "    // its default value, which is the name of the field.\n",
    "    [ColumnName(\"PredictedLabel\")]\n",
    "    public bool Prediction;\n",
    "\n",
    "    // No need to specify ColumnName attribute, because the field\n",
    "    // name \"Probability\" is the column name we want.\n",
    "    public float Probability;\n",
    "\n",
    "    public float Score;\n",
    "}"
   ]
  },
  {
   "cell_type": "code",
   "execution_count": 25,
   "metadata": {},
   "outputs": [],
   "source": [
    "public class HeartSampleData\n",
    "{\n",
    "    internal static readonly List<HeartData> heartDataList = new List<HeartData>()\n",
    "    {\n",
    "        new HeartData()\n",
    "        { \n",
    "            Age = 36.0f,\n",
    "            Sex = 1.0f,\n",
    "            Cp = 4.0f,\n",
    "            TrestBps = 145.0f,\n",
    "            Chol = 210.0f,\n",
    "            Fbs = 0.0f,\n",
    "            RestEcg = 2.0f,\n",
    "            Thalac = 148.0f,\n",
    "            Exang = 1.0f,\n",
    "            OldPeak = 1.9f,\n",
    "            Slope = 2.0f,\n",
    "            Ca = 1.0f,\n",
    "            Thal = 7.0f,\n",
    "        },\n",
    "        new HeartData()\n",
    "        {\n",
    "            Age = 95.0f,\n",
    "            Sex = 1.0f,\n",
    "            Cp = 4.0f,\n",
    "            TrestBps = 145.0f,\n",
    "            Chol = 210.0f,\n",
    "            Fbs = 0.0f,\n",
    "            RestEcg = 2.0f,\n",
    "            Thalac = 148.0f,\n",
    "            Exang = 1.0f,\n",
    "            OldPeak = 1.9f,\n",
    "            Slope = 2.0f,\n",
    "            Ca = 1.0f,\n",
    "            Thal = 7.0f,\n",
    "        },\n",
    "        new HeartData()\n",
    "        {\n",
    "            Age = 46.0f,\n",
    "            Sex = 1.0f,\n",
    "            Cp = 4.0f,\n",
    "            TrestBps = 135.0f,\n",
    "            Chol = 192.0f,\n",
    "            Fbs = 0.0f,\n",
    "            RestEcg = 0.0f,\n",
    "            Thalac = 148.0f,\n",
    "            Exang = 0.0f,\n",
    "            OldPeak = 0.3f,\n",
    "            Slope = 2.0f,\n",
    "            Ca = 0.0f,\n",
    "            Thal = 6.0f,\n",
    "        },\n",
    "        new HeartData()\n",
    "        {\n",
    "            Age = 45.0f,\n",
    "            Sex = 0.0f,\n",
    "            Cp = 1.0f,\n",
    "            TrestBps = 140.0f,\n",
    "            Chol = 221.0f,\n",
    "            Fbs = 1.0f,\n",
    "            RestEcg = 1.0f,\n",
    "            Thalac = 150.0f,\n",
    "            Exang = 0.0f,\n",
    "            OldPeak = 2.3f,\n",
    "            Slope = 3.0f,\n",
    "            Ca = 0.0f,\n",
    "            Thal = 6.0f,\n",
    "        },\n",
    "        new HeartData()\n",
    "        {\n",
    "            Age = 88.0f,\n",
    "            Sex = 0.0f,\n",
    "            Cp = 1.0f,\n",
    "            TrestBps = 140.0f,\n",
    "            Chol = 221.0f,\n",
    "            Fbs = 1.0f,\n",
    "            RestEcg = 1.0f,\n",
    "            Thalac = 150.0f,\n",
    "            Exang = 0.0f,\n",
    "            OldPeak = 2.3f,\n",
    "            Slope = 3.0f,\n",
    "            Ca = 0.0f,\n",
    "            Thal = 6.0f,\n",
    "        },\n",
    "    };\n",
    "}"
   ]
  },
  {
   "cell_type": "markdown",
   "metadata": {},
   "source": [
    "### Constants"
   ]
  },
  {
   "cell_type": "code",
   "execution_count": 26,
   "metadata": {},
   "outputs": [],
   "source": [
    "private static string TrainDataPath = @\"./Datasets/HeartDiseaseDetection/HeartTraining.csv\";\n",
    "private static string TestDataPath = @\"./Datasets/HeartDiseaseDetection//HeartTest.csv\";\n",
    "private static string ModelPath = @\"./Datasets/HeartDiseaseDetection/MLModels\";"
   ]
  },
  {
   "cell_type": "markdown",
   "metadata": {},
   "source": [
    "### Methods"
   ]
  },
  {
   "cell_type": "code",
   "execution_count": 32,
   "metadata": {},
   "outputs": [],
   "source": [
    "private static void BuildTrainEvaluateAndSaveModel(MLContext mlContext)\n",
    "{\n",
    "    // STEP 1: Common data loading configuration\n",
    "    var trainingDataView = mlContext.Data.LoadFromTextFile<HeartData>(TrainDataPath, hasHeader: true, separatorChar: ';');\n",
    "    var testDataView = mlContext.Data.LoadFromTextFile<HeartData>(TestDataPath, hasHeader: true, separatorChar: ';');\n",
    "\n",
    "    // STEP 2: Concatenate the features and set the training algorithm\n",
    "    var pipeline = mlContext.Transforms.Concatenate(\"Features\", \"Age\", \"Sex\", \"Cp\", \"TrestBps\", \"Chol\", \"Fbs\", \"RestEcg\", \"Thalac\", \"Exang\", \"OldPeak\", \"Slope\", \"Ca\", \"Thal\")\n",
    "        .Append(mlContext.BinaryClassification.Trainers.FastTree(labelColumnName: \"Label\", featureColumnName: \"Features\"));\n",
    "\n",
    "    Console.WriteLine(\"=============== Training the model ===============\");\n",
    "    ITransformer trainedModel = pipeline.Fit(trainingDataView);\n",
    "    Console.WriteLine(\"\");\n",
    "    Console.WriteLine(\"\");\n",
    "    Console.WriteLine(\"=============== Finish the train model. Push Enter ===============\");\n",
    "    Console.WriteLine(\"\");\n",
    "    Console.WriteLine(\"\");\n",
    "\n",
    "    Console.WriteLine(\"===== Evaluating Model's accuracy with Test data =====\");\n",
    "    var predictions = trainedModel.Transform(testDataView);\n",
    "\n",
    "    var metrics = mlContext.BinaryClassification.Evaluate(data: predictions, labelColumnName: \"Label\", scoreColumnName: \"Score\");\n",
    "    Console.WriteLine(\"\");\n",
    "    Console.WriteLine(\"\");\n",
    "    Console.WriteLine($\"************************************************************\");\n",
    "    Console.WriteLine($\"*       Metrics for {trainedModel.ToString()} binary classification model      \");\n",
    "    Console.WriteLine($\"*-----------------------------------------------------------\");\n",
    "    Console.WriteLine($\"*       Accuracy: {metrics.Accuracy:P2}\");\n",
    "    Console.WriteLine($\"*       Area Under Roc Curve:      {metrics.AreaUnderRocCurve:P2}\");\n",
    "    Console.WriteLine($\"*       Area Under PrecisionRecall Curve:  {metrics.AreaUnderPrecisionRecallCurve:P2}\");\n",
    "    Console.WriteLine($\"*       F1Score:  {metrics.F1Score:P2}\");\n",
    "    Console.WriteLine($\"*       LogLoss:  {metrics.LogLoss:#.##}\");\n",
    "    Console.WriteLine($\"*       LogLossReduction:  {metrics.LogLossReduction:#.##}\");\n",
    "    Console.WriteLine($\"*       PositivePrecision:  {metrics.PositivePrecision:#.##}\");\n",
    "    Console.WriteLine($\"*       PositiveRecall:  {metrics.PositiveRecall:#.##}\");\n",
    "    Console.WriteLine($\"*       NegativePrecision:  {metrics.NegativePrecision:#.##}\");\n",
    "    Console.WriteLine($\"*       NegativeRecall:  {metrics.NegativeRecall:P2}\");\n",
    "    Console.WriteLine($\"************************************************************\");\n",
    "    Console.WriteLine(\"\");\n",
    "    Console.WriteLine(\"\");\n",
    "\n",
    "    Console.WriteLine(\"=============== Saving the model to a file ===============\");\n",
    "   // Console.WriteLine(ModelPath);\n",
    "    mlContext.Model.Save(trainedModel, trainingDataView.Schema, ModelPath);\n",
    "   \n",
    "    Console.WriteLine(\"\");\n",
    "    Console.WriteLine(\"\");\n",
    "    Console.WriteLine(\"=============== Model Saved ============= \");\n",
    "}\n",
    "\n",
    "private static void TestPrediction(MLContext mlContext)\n",
    "{\n",
    "    ITransformer trainedModel = mlContext.Model.Load(ModelPath, out var modelInputSchema);\n",
    "\n",
    "    // Create prediction engine related to the loaded trained model\n",
    "    var predictionEngine = mlContext.Model.CreatePredictionEngine<HeartData, HeartPrediction>(trainedModel);                   \n",
    "\n",
    "    foreach (var heartData in HeartSampleData.heartDataList)\n",
    "    {\n",
    "        var prediction = predictionEngine.Predict(heartData);\n",
    "\n",
    "        Console.WriteLine($\"=============== Single Prediction  ===============\");\n",
    "        Console.WriteLine($\"Age: {heartData.Age} \");\n",
    "        Console.WriteLine($\"Sex: {heartData.Sex} \");\n",
    "        Console.WriteLine($\"Cp: {heartData.Cp} \");\n",
    "        Console.WriteLine($\"TrestBps: {heartData.TrestBps} \");\n",
    "        Console.WriteLine($\"Chol: {heartData.Chol} \");\n",
    "        Console.WriteLine($\"Fbs: {heartData.Fbs} \");\n",
    "        Console.WriteLine($\"RestEcg: {heartData.RestEcg} \");\n",
    "        Console.WriteLine($\"Thalac: {heartData.Thalac} \");\n",
    "        Console.WriteLine($\"Exang: {heartData.Exang} \");\n",
    "        Console.WriteLine($\"OldPeak: {heartData.OldPeak} \");\n",
    "        Console.WriteLine($\"Slope: {heartData.Slope} \");\n",
    "        Console.WriteLine($\"Ca: {heartData.Ca} \");\n",
    "        Console.WriteLine($\"Thal: {heartData.Thal} \");\n",
    "        Console.WriteLine($\"Prediction Value: {prediction.Prediction} \");\n",
    "        Console.WriteLine($\"Prediction: {(prediction.Prediction ? \"A disease could be present\" : \"Not present disease\" )} \");\n",
    "        Console.WriteLine($\"Probability: {prediction.Probability} \");\n",
    "        Console.WriteLine($\"==================================================\");\n",
    "        Console.WriteLine(\"\");\n",
    "        Console.WriteLine(\"\");\n",
    "    }\n",
    "\n",
    "}"
   ]
  },
  {
   "cell_type": "markdown",
   "metadata": {},
   "source": [
    "## Evaluate"
   ]
  },
  {
   "cell_type": "code",
   "execution_count": null,
   "metadata": {},
   "outputs": [],
   "source": [
    "var mlContext = new MLContext();\n",
    "\n",
    "BuildTrainEvaluateAndSaveModel(mlContext);\n",
    "\n",
    "TestPrediction(mlContext);\n",
    "\n",
    "Console.WriteLine(\"=============== End of process, hit any key to finish ===============\");\n",
    
   ]
  }
 ],
 "metadata": {
  "kernelspec": {
   "display_name": ".NET (C#)",
   "language": "C#",
   "name": ".net-csharp"
  },
  "language_info": {
   "file_extension": ".cs",
   "mimetype": "text/x-csharp",
   "name": "C#",
   "pygments_lexer": "csharp",
   "version": "8.0"
  }
 },
 "nbformat": 4,
 "nbformat_minor": 4
}
