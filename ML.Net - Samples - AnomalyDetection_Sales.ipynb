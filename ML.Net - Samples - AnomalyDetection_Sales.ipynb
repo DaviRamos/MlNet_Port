{
 "cells": [
  {
   "cell_type": "markdown",
   "metadata": {},
   "source": [
    "# ML.Net - Samples - Anomaly Detection Sales "
   ]
  },
  {
   "cell_type": "markdown",
   "metadata": {},
   "source": [
    "## Spike Detection and Change Point Detection of Product sales"
   ]
  },
  {
   "cell_type": "markdown",
   "metadata": {},
   "source": [
    "| ML.NET version | API type          | Status                        | App Type    | Data type | Scenario            | ML Task                   | Algorithms                  |\n",
    "|----------------|-------------------|-------------------------------|-------------|-----------|---------------------|---------------------------|-----------------------------|\n",
    "| v1.5         | Dynamic API | Up-to-date | Jupyter Notebook | .csv files | Product Sales Spike Detection| Time Series - Anomaly Detection | IID Spike Detection and IID Change point Detection |\n",
    "\n",
    "In this introductory sample, you'll see how to use [ML.NET](https://www.microsoft.com/net/learn/apps/machine-learning-and-ai/ml-dotnet) to detect **spikes** and **change points** in Product sales. In the world of machine learning, this type of task is called TimeSeries Anomaly Detection."
   ]
  },
  {
   "cell_type": "markdown",
   "metadata": {},
   "source": [
    "In this sample, you'll see how to use [ML.NET](https://www.microsoft.com/net/learn/apps/machine-learning-and-ai/ml-dotnet) to predict whether a text message is spam. In the world of machine learning, this type of prediction is known as **binary classification**."
   ]
  },
  {
   "cell_type": "markdown",
   "metadata": {},
   "source": [
    "## Problem"
   ]
  },
  {
   "cell_type": "markdown",
   "metadata": {},
   "source": [
    "We are having data on Product sales over 3 months period in which the sales are high and normal. we identify sudden spikes in Product sales so that we can use this spiked data to analyze trends in sales of Product. \n",
    "\n",
    "To solve this problem, we will build an ML model that takes as inputs: \n",
    "* Date-Month\n",
    "* ProductSales over 3 months period\n",
    "\n",
    "and predicts the spikes and changepoints in Product sales."
   ]
  },
  {
   "cell_type": "markdown",
   "metadata": {},
   "source": [
    "## Dataset"
   ]
  },
  {
   "cell_type": "markdown",
   "metadata": {},
   "source": [
    "We have created sample dataset for Product sales. The dataset `product-sales.csv` can be found [here](./SpikeDetection/Data/product-sales.csv)\n",
    "\n",
    "Format of **Product Sales DataSet** looks like below.\n",
    "\n",
    "| Month  | ProductSales |\n",
    "|--------|--------------|\n",
    "| 1-Jan  | 271          |\n",
    "| 2-Jan  | 150.9        |\n",
    "| .....  | .....        |\n",
    "| 1-Feb  | 199.3        |\n",
    "| ...    | ....         |\n",
    "\n",
    "The data format in Product Sales dataset is referenced from **shampoo-sales dataset** and the license for shampoo-sales dataset is available [here](./SpikeDetection/Data/SHAMPOO-SALES-LICENSE.txt).\n",
    "\n",
    "\n",
    "The algorithms **IID Spike Detection** or **IID Change point Detection** are suited for dataset that is **independent and identically distributed**. In probability theory and statistics, a collection of random variables is independent and identically distributed(IID) if each random variable has the same probability distribution as the others and all are mutually independent. More information is available on wikipedia [here](https://en.wikipedia.org/wiki/Independent_and_identically_distributed_random_variables)"
   ]
  },
  {
   "cell_type": "markdown",
   "metadata": {},
   "source": [
    "## ML task - Time Series Anomaly Detection"
   ]
  },
  {
   "cell_type": "markdown",
   "metadata": {},
   "source": [
    "Anomaly detection is the process of detecting outliers in the data.Anomaly detection in time-series refers to detecting time stamps, or points on a given input time-series, at which the time-series behaves differently from what was expected. These deviations are typically indicative of some events of interest in the problem domain: a cyber-attack on user accounts, power outage, bursting RPS on a server, memory leak, etc."
   ]
  },
  {
   "cell_type": "markdown",
   "metadata": {},
   "source": [
    "## Spike Detection"
   ]
  },
  {
   "cell_type": "markdown",
   "metadata": {},
   "source": [
    "Spikes are attributed to sudden yet temporary bursts in the values of the input time-series.  In practice, they can happen due to a variety of reasons depending on the application: outages, cyber-attacks, viral web content, etc. Therefore, in many applications, it is important to detect spikes.\n",
    "\n",
    "![spikeDetection](../shared_content/SpikeDetection.png)"
   ]
  },
  {
   "cell_type": "markdown",
   "metadata": {},
   "source": [
    "## Change point Detection"
   ]
  },
  {
   "cell_type": "markdown",
   "metadata": {},
   "source": [
    "Change points mark the beginning of more persistent deviations in the behavior of time-series from what was expected.In practice, these type of changes in the behavior of time-series are usually triggered by some fundamental changes in the dynamics of the system. For example, in system telemetry monitoring, an introduction of a memory leak can cause a (slow) trend in the time-series of memory usage after certain point in time. \n",
    "\n",
    "![ChangepointDetection](../shared_content/ChangePointDetection.png)\n"
   ]
  },
  {
   "cell_type": "markdown",
   "metadata": {},
   "source": [
    "## Solution"
   ]
  },
  {
   "cell_type": "markdown",
   "metadata": {},
   "source": [
    "To solve this problem, you build and train an ML model on existing training data, evaluate how good it is (analyzing the obtained metrics), and lastly you can consume/test the model to predict the demand given input data variables.\n",
    "\n",
    "![Build -> Train -> Evaluate -> Consume](../shared_content/modelpipeline.png)\n",
    "\n",
    "However, in this example we will build and train the model to demonstrate the Time Series anomaly detection library since it detects on actual data and does not have an evaluate method.  We will then review the detected anomalies in the Prediction output column.\n",
    "\n",
    "The process of building and training models is the same for spike detection and change point detection; the main difference is the algorithm that you use (DetectIidSpike vs. DetectIidChangePoint)."
   ]
  },
  {
   "cell_type": "code",
   "execution_count": null,
   "metadata": {},
   "outputs": [],
   "source": [
    "// ML.NET Nuget packages installation \n",
    "#r \"nuget:Microsoft.ML\" \n",
    "#r \"nuget:Microsoft.ML.TimeSeries\" "
   ]
  },
  {
   "cell_type": "markdown",
   "metadata": {},
   "source": [
    "## Using C# Class"
   ]
  },
  {
   "cell_type": "code",
   "execution_count": null,
   "metadata": {},
   "outputs": [],
   "source": [
    "using System;\n",
    "using System.IO;\n",
    "using System.IO.Compression;\n",
    "using System.Linq;\n",
    "using System.Net;\n",
    "using Microsoft.ML;\n",
    "using Microsoft.ML.Data;\n",
    "using System.Collections.Generic;\n",
    "using static Microsoft.ML.TrainCatalogBase;\n",
    "using static Microsoft.ML.DataOperationsCatalog;\n",
    "using System.Diagnostics;"
   ]
  },
  {
   "cell_type": "markdown",
   "metadata": {},
   "source": [
    "## Declare data-classes for input data and predictions"
   ]
  },
  {
   "cell_type": "code",
   "execution_count": null,
   "metadata": {},
   "outputs": [],
   "source": [
    "public class ProductSalesData\n",
    "{\n",
    "    [LoadColumn(0)]\n",
    "    public string Month;\n",
    "\n",
    "    [LoadColumn(1)]\n",
    "    public float numSales;\n",
    "}\n",
    "\n",
    "public class ProductSalesPrediction\n",
    "{\n",
    "    //vector to hold alert,score,p-value values\n",
    "    [VectorType(3)]\n",
    "    public double[] Prediction { get; set; }\n",
    "}"
   ]
  },
  {
   "cell_type": "markdown",
   "metadata": {},
   "source": [
    "### Constants"
   ]
  },
  {
   "cell_type": "code",
   "execution_count": null,
   "metadata": {},
   "outputs": [],
   "source": [
    "private static string DatasetPath = @\"./datasets/AnomalyDetection_Sales/product-sales.csv\";\n",
    "private static string ModelPath =  @\"./datasets/AnomalyDetection_Sales/MLModels/ProductSalesModel.zip\";\n",
    "private static MLContext mlContext;"
   ]
  },
  {
   "cell_type": "markdown",
   "metadata": {},
   "source": [
    "### Methods"
   ]
  },
  {
   "cell_type": "code",
   "execution_count": null,
   "metadata": {},
   "outputs": [],
   "source": [
    "static void DetectSpike(int size,IDataView dataView)\n",
    "{\n",
    "   Console.WriteLine(\"===============Detect temporary changes in pattern===============\");\n",
    "\n",
    "    //STEP 1: Create Esimtator   \n",
    "    var estimator = mlContext.Transforms.DetectIidSpike(outputColumnName: nameof(ProductSalesPrediction.Prediction), inputColumnName: nameof(ProductSalesData.numSales),confidence: 95, pvalueHistoryLength: size / 4);\n",
    "\n",
    "    //STEP 2:The Transformed Model.\n",
    "    //In IID Spike detection, we don't need to do training, we just need to do transformation. \n",
    "    //As you are not training the model, there is no need to load IDataView with real data, you just need schema of data.\n",
    "    //So create empty data view and pass to Fit() method. \n",
    "    ITransformer tansformedModel = estimator.Fit(CreateEmptyDataView());\n",
    "\n",
    "    //STEP 3: Use/test model\n",
    "    //Apply data transformation to create predictions.\n",
    "    IDataView transformedData = tansformedModel.Transform(dataView);\n",
    "    var predictions = mlContext.Data.CreateEnumerable<ProductSalesPrediction>(transformedData, reuseRowObject: false);\n",
    "              \n",
    "    Console.WriteLine(\"Alert\\tScore\\tP-Value\");\n",
    "    foreach (var p in predictions)\n",
    "    {\n",
    "        if (p.Prediction[0] == 1)\n",
    "        {\n",
    "            Console.BackgroundColor = ConsoleColor.DarkYellow;\n",
    "            Console.ForegroundColor = ConsoleColor.Black;\n",
    "        }\n",
    "        Console.WriteLine(\"{0}\\t{1:0.00}\\t{2:0.00}\", p.Prediction[0], p.Prediction[1], p.Prediction[2]);\n",
    "        Console.ResetColor();\n",
    "    }\n",
    "    Console.WriteLine(\"\");\n",
    "}\n",
    "\n",
    "static void DetectChangepoint(int size, IDataView dataView)\n",
    "{\n",
    "  Console.WriteLine(\"===============Detect Persistent changes in pattern===============\");\n",
    "\n",
    "  //STEP 1: Setup transformations using DetectIidChangePoint\n",
    "  var estimator = mlContext.Transforms.DetectIidChangePoint(outputColumnName: nameof(ProductSalesPrediction.Prediction), inputColumnName: nameof(ProductSalesData.numSales), confidence: 95, changeHistoryLength: size / 4);\n",
    "\n",
    "  //STEP 2:The Transformed Model.\n",
    "  //In IID Change point detection, we don't need need to do training, we just need to do transformation. \n",
    "  //As you are not training the model, there is no need to load IDataView with real data, you just need schema of data.\n",
    "  //So create empty data view and pass to Fit() method. \n",
    "  ITransformer tansformedModel = estimator.Fit(CreateEmptyDataView());\n",
    "\n",
    "  //STEP 3: Use/test model\n",
    "  //Apply data transformation to create predictions.\n",
    "  IDataView transformedData = tansformedModel.Transform(dataView);\n",
    "  var predictions = mlContext.Data.CreateEnumerable<ProductSalesPrediction>(transformedData, reuseRowObject: false);\n",
    "               \n",
    "  Console.WriteLine($\"{nameof(ProductSalesPrediction.Prediction)} column obtained post-transformation.\");\n",
    "  Console.WriteLine(\"Alert\\tScore\\tP-Value\\tMartingale value\");\n",
    "    \n",
    "  foreach(var p in predictions)\n",
    "  {\n",
    "     if (p.Prediction[0] == 1)\n",
    "     {\n",
    "         Console.WriteLine(\"{0}\\t{1:0.00}\\t{2:0.00}\\t{3:0.00}  <-- alert is on, predicted changepoint\", p.Prediction[0], p.Prediction[1], p.Prediction[2], p.Prediction[3]);\n",
    "     }\n",
    "     else\n",
    "     { \n",
    "         Console.WriteLine(\"{0}\\t{1:0.00}\\t{2:0.00}\\t{3:0.00}\",  p.Prediction[0], p.Prediction[1], p.Prediction[2], p.Prediction[3]);                  \n",
    "     }            \n",
    "  }\n",
    "  Console.WriteLine(\"\");\n",
    "}\n",
    "\n",
    "private static IDataView CreateEmptyDataView()\n",
    "{\n",
    "    //Create empty DataView. We just need the schema to call fit()\n",
    "    IEnumerable<ProductSalesData> enumerableData = new List<ProductSalesData>();\n",
    "    var dv = mlContext.Data.LoadFromEnumerable(enumerableData);\n",
    "    return dv;\n",
    "}"
   ]
  },
  {
   "cell_type": "markdown",
   "metadata": {},
   "source": [
    "## Evaluate"
   ]
  },
  {
   "cell_type": "code",
   "execution_count": null,
   "metadata": {},
   "outputs": [],
   "source": [
    " // Create MLContext to be shared across the model creation workflow objects \n",
    "mlContext = new MLContext();\n",
    "\n",
    "//assign the Number of records in dataset file to cosntant variable\n",
    "const int size = 36;\n",
    "\n",
    "//Load the data into IDataView.\n",
    "//This dataset is used while prediction/detecting spikes or changes.\n",
    "IDataView dataView = mlContext.Data.LoadFromTextFile<ProductSalesData>(path: DatasetPath, hasHeader: true, separatorChar: ',');\n",
    "\n",
    "//To detech temporay changes in the pattern\n",
    "DetectSpike(size,dataView);\n",
    "\n",
    "//To detect persistent change in the pattern\n",
    "DetectChangepoint(size, dataView);\n",
    "\n",
    "Console.WriteLine(\"=============== End of process ===============\");"
   ]
  }
 ],
 "metadata": {
  "kernelspec": {
   "display_name": ".NET (C#)",
   "language": "C#",
   "name": ".net-csharp"
  },
  "language_info": {
   "file_extension": ".cs",
   "mimetype": "text/x-csharp",
   "name": "C#",
   "pygments_lexer": "csharp",
   "version": "8.0"
  }
 },
 "nbformat": 4,
 "nbformat_minor": 4
}
